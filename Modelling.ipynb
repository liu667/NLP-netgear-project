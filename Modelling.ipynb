{
 "cells": [
  {
   "cell_type": "code",
   "execution_count": 1,
   "metadata": {
    "collapsed": true
   },
   "outputs": [],
   "source": [
    "import pandas as pd\n",
    "\n",
    "data = pd.read_csv('selected_tokens.csv')"
   ]
  },
  {
   "cell_type": "code",
   "execution_count": 126,
   "metadata": {},
   "outputs": [
    {
     "data": {
      "text/plain": [
       "(25962, 2545)"
      ]
     },
     "execution_count": 126,
     "metadata": {},
     "output_type": "execute_result"
    }
   ],
   "source": [
    "data.shape"
   ]
  },
  {
   "cell_type": "code",
   "execution_count": 125,
   "metadata": {},
   "outputs": [
    {
     "data": {
      "text/plain": [
       "Unnamed: 0                  1368\n",
       "Unnamed: 0.1                1368\n",
       "communicate                    0\n",
       "worry                          0\n",
       "odd                            0\n",
       "totally_useles                 0\n",
       "face                           0\n",
       "impressive                     0\n",
       "whenever                       0\n",
       "indoor                         0\n",
       "screen                         0\n",
       "let_register                   0\n",
       "arm_disarm                     0\n",
       "assign                         0\n",
       "web_interface                  0\n",
       "automatically_switch           0\n",
       "brand                          0\n",
       "son_drill                      0\n",
       "wireless_rdquo                 0\n",
       "operate_assumption             0\n",
       "wonâ€™t                        0\n",
       "review                         0\n",
       "listen_music                   0\n",
       "department                     0\n",
       "let`                           0\n",
       "brand_new                      0\n",
       "first                          0\n",
       "bp                             0\n",
       "physically                     0\n",
       "first_floor                    0\n",
       "                          ...   \n",
       "shouldn`t                      0\n",
       "hype                           0\n",
       "position                       0\n",
       "worth                          0\n",
       "bell                           0\n",
       "time_capsule                   0\n",
       "half                           0\n",
       "main                           0\n",
       "small                          0\n",
       "alert                          0\n",
       "photo                          0\n",
       "fire                           0\n",
       "50_mbp                         0\n",
       "five                           0\n",
       "february                       0\n",
       "wait_slight                    0\n",
       "big_deal                       0\n",
       "n300                           0\n",
       "frustration                    0\n",
       "stutter                        0\n",
       "g                              0\n",
       "mail_faulty                    0\n",
       "next                           0\n",
       "it`_shame                      0\n",
       "specify                        0\n",
       "nearly_worthles                0\n",
       "send                           0\n",
       "recognize                      0\n",
       "fall                           0\n",
       "Label                   content \n",
       "Name: 1368, Length: 2545, dtype: object"
      ]
     },
     "execution_count": 125,
     "metadata": {},
     "output_type": "execute_result"
    }
   ],
   "source": [
    "data.iloc[1368,:]"
   ]
  },
  {
   "cell_type": "code",
   "execution_count": 22,
   "metadata": {
    "collapsed": true
   },
   "outputs": [],
   "source": [
    "del data['Unnamed: 0']"
   ]
  },
  {
   "cell_type": "code",
   "execution_count": 53,
   "metadata": {},
   "outputs": [
    {
     "data": {
      "text/plain": [
       "array(['product', 'tech support', 'marketing', 'content', 'other ', 'other'], dtype=object)"
      ]
     },
     "execution_count": 53,
     "metadata": {},
     "output_type": "execute_result"
    }
   ],
   "source": [
    "label.unique()"
   ]
  },
  {
   "cell_type": "code",
   "execution_count": 23,
   "metadata": {
    "collapsed": true
   },
   "outputs": [],
   "source": [
    "del data['Unnamed: 0.1']"
   ]
  },
  {
   "cell_type": "code",
   "execution_count": 22,
   "metadata": {},
   "outputs": [
    {
     "data": {
      "text/html": [
       "<div>\n",
       "<style>\n",
       "    .dataframe thead tr:only-child th {\n",
       "        text-align: right;\n",
       "    }\n",
       "\n",
       "    .dataframe thead th {\n",
       "        text-align: left;\n",
       "    }\n",
       "\n",
       "    .dataframe tbody tr th {\n",
       "        vertical-align: top;\n",
       "    }\n",
       "</style>\n",
       "<table border=\"1\" class=\"dataframe\">\n",
       "  <thead>\n",
       "    <tr style=\"text-align: right;\">\n",
       "      <th></th>\n",
       "      <th>communicate</th>\n",
       "      <th>worry</th>\n",
       "      <th>odd</th>\n",
       "      <th>totally_useles</th>\n",
       "      <th>face</th>\n",
       "      <th>impressive</th>\n",
       "      <th>whenever</th>\n",
       "      <th>indoor</th>\n",
       "      <th>screen</th>\n",
       "      <th>let_register</th>\n",
       "      <th>...</th>\n",
       "      <th>stutter</th>\n",
       "      <th>g</th>\n",
       "      <th>mail_faulty</th>\n",
       "      <th>next</th>\n",
       "      <th>it`_shame</th>\n",
       "      <th>specify</th>\n",
       "      <th>nearly_worthles</th>\n",
       "      <th>send</th>\n",
       "      <th>recognize</th>\n",
       "      <th>fall</th>\n",
       "    </tr>\n",
       "  </thead>\n",
       "  <tbody>\n",
       "    <tr>\n",
       "      <th>0</th>\n",
       "      <td>0.0</td>\n",
       "      <td>0.0</td>\n",
       "      <td>0.0</td>\n",
       "      <td>0.0</td>\n",
       "      <td>0.0</td>\n",
       "      <td>0.0</td>\n",
       "      <td>0.0</td>\n",
       "      <td>0.0</td>\n",
       "      <td>0.0</td>\n",
       "      <td>0.0</td>\n",
       "      <td>...</td>\n",
       "      <td>0.0</td>\n",
       "      <td>0.0</td>\n",
       "      <td>0.0</td>\n",
       "      <td>0.0</td>\n",
       "      <td>0.0</td>\n",
       "      <td>0.0</td>\n",
       "      <td>0.0</td>\n",
       "      <td>0.0</td>\n",
       "      <td>0.0</td>\n",
       "      <td>0.0</td>\n",
       "    </tr>\n",
       "    <tr>\n",
       "      <th>1</th>\n",
       "      <td>0.0</td>\n",
       "      <td>0.0</td>\n",
       "      <td>0.0</td>\n",
       "      <td>0.0</td>\n",
       "      <td>0.0</td>\n",
       "      <td>0.0</td>\n",
       "      <td>0.0</td>\n",
       "      <td>0.0</td>\n",
       "      <td>0.0</td>\n",
       "      <td>0.0</td>\n",
       "      <td>...</td>\n",
       "      <td>0.0</td>\n",
       "      <td>0.0</td>\n",
       "      <td>0.0</td>\n",
       "      <td>0.0</td>\n",
       "      <td>0.0</td>\n",
       "      <td>0.0</td>\n",
       "      <td>0.0</td>\n",
       "      <td>0.0</td>\n",
       "      <td>0.0</td>\n",
       "      <td>0.0</td>\n",
       "    </tr>\n",
       "    <tr>\n",
       "      <th>2</th>\n",
       "      <td>0.0</td>\n",
       "      <td>0.0</td>\n",
       "      <td>0.0</td>\n",
       "      <td>0.0</td>\n",
       "      <td>0.0</td>\n",
       "      <td>0.0</td>\n",
       "      <td>0.0</td>\n",
       "      <td>0.0</td>\n",
       "      <td>0.0</td>\n",
       "      <td>0.0</td>\n",
       "      <td>...</td>\n",
       "      <td>0.0</td>\n",
       "      <td>0.0</td>\n",
       "      <td>0.0</td>\n",
       "      <td>0.0</td>\n",
       "      <td>0.0</td>\n",
       "      <td>0.0</td>\n",
       "      <td>0.0</td>\n",
       "      <td>0.0</td>\n",
       "      <td>0.0</td>\n",
       "      <td>0.0</td>\n",
       "    </tr>\n",
       "    <tr>\n",
       "      <th>3</th>\n",
       "      <td>0.0</td>\n",
       "      <td>0.0</td>\n",
       "      <td>0.0</td>\n",
       "      <td>0.0</td>\n",
       "      <td>0.0</td>\n",
       "      <td>0.0</td>\n",
       "      <td>0.0</td>\n",
       "      <td>0.0</td>\n",
       "      <td>0.0</td>\n",
       "      <td>0.0</td>\n",
       "      <td>...</td>\n",
       "      <td>0.0</td>\n",
       "      <td>0.0</td>\n",
       "      <td>0.0</td>\n",
       "      <td>0.0</td>\n",
       "      <td>0.0</td>\n",
       "      <td>0.0</td>\n",
       "      <td>0.0</td>\n",
       "      <td>0.0</td>\n",
       "      <td>0.0</td>\n",
       "      <td>0.0</td>\n",
       "    </tr>\n",
       "    <tr>\n",
       "      <th>4</th>\n",
       "      <td>0.0</td>\n",
       "      <td>0.0</td>\n",
       "      <td>0.0</td>\n",
       "      <td>0.0</td>\n",
       "      <td>0.0</td>\n",
       "      <td>0.0</td>\n",
       "      <td>0.0</td>\n",
       "      <td>0.0</td>\n",
       "      <td>0.0</td>\n",
       "      <td>0.0</td>\n",
       "      <td>...</td>\n",
       "      <td>0.0</td>\n",
       "      <td>0.0</td>\n",
       "      <td>0.0</td>\n",
       "      <td>0.0</td>\n",
       "      <td>0.0</td>\n",
       "      <td>0.0</td>\n",
       "      <td>0.0</td>\n",
       "      <td>0.0</td>\n",
       "      <td>0.0</td>\n",
       "      <td>0.0</td>\n",
       "    </tr>\n",
       "  </tbody>\n",
       "</table>\n",
       "<p>5 rows × 2542 columns</p>\n",
       "</div>"
      ],
      "text/plain": [
       "   communicate  worry  odd  totally_useles  face  impressive  whenever  \\\n",
       "0          0.0    0.0  0.0             0.0   0.0         0.0       0.0   \n",
       "1          0.0    0.0  0.0             0.0   0.0         0.0       0.0   \n",
       "2          0.0    0.0  0.0             0.0   0.0         0.0       0.0   \n",
       "3          0.0    0.0  0.0             0.0   0.0         0.0       0.0   \n",
       "4          0.0    0.0  0.0             0.0   0.0         0.0       0.0   \n",
       "\n",
       "   indoor  screen  let_register  ...   stutter    g  mail_faulty  next  \\\n",
       "0     0.0     0.0           0.0  ...       0.0  0.0          0.0   0.0   \n",
       "1     0.0     0.0           0.0  ...       0.0  0.0          0.0   0.0   \n",
       "2     0.0     0.0           0.0  ...       0.0  0.0          0.0   0.0   \n",
       "3     0.0     0.0           0.0  ...       0.0  0.0          0.0   0.0   \n",
       "4     0.0     0.0           0.0  ...       0.0  0.0          0.0   0.0   \n",
       "\n",
       "   it`_shame  specify  nearly_worthles  send  recognize  fall  \n",
       "0        0.0      0.0              0.0   0.0        0.0   0.0  \n",
       "1        0.0      0.0              0.0   0.0        0.0   0.0  \n",
       "2        0.0      0.0              0.0   0.0        0.0   0.0  \n",
       "3        0.0      0.0              0.0   0.0        0.0   0.0  \n",
       "4        0.0      0.0              0.0   0.0        0.0   0.0  \n",
       "\n",
       "[5 rows x 2542 columns]"
      ]
     },
     "execution_count": 22,
     "metadata": {},
     "output_type": "execute_result"
    }
   ],
   "source": [
    "features.head()"
   ]
  },
  {
   "cell_type": "code",
   "execution_count": 52,
   "metadata": {},
   "outputs": [
    {
     "name": "stderr",
     "output_type": "stream",
     "text": [
      "/Users/liuying/anaconda3/lib/python3.6/site-packages/pandas/core/indexing.py:179: SettingWithCopyWarning: \n",
      "A value is trying to be set on a copy of a slice from a DataFrame\n",
      "\n",
      "See the caveats in the documentation: http://pandas.pydata.org/pandas-docs/stable/indexing.html#indexing-view-versus-copy\n",
      "  self._setitem_with_indexer(indexer, value)\n"
     ]
    }
   ],
   "source": [
    "label = data['Label']\n",
    "features = data.iloc[:,:2542]\n",
    "label.loc[label == 'content '] = 'content'"
   ]
  },
  {
   "cell_type": "code",
   "execution_count": 54,
   "metadata": {},
   "outputs": [
    {
     "name": "stderr",
     "output_type": "stream",
     "text": [
      "/Users/liuying/anaconda3/lib/python3.6/site-packages/pandas/core/indexing.py:179: SettingWithCopyWarning: \n",
      "A value is trying to be set on a copy of a slice from a DataFrame\n",
      "\n",
      "See the caveats in the documentation: http://pandas.pydata.org/pandas-docs/stable/indexing.html#indexing-view-versus-copy\n",
      "  self._setitem_with_indexer(indexer, value)\n"
     ]
    }
   ],
   "source": [
    "label.loc[label == 'other '] = 'other'"
   ]
  },
  {
   "cell_type": "code",
   "execution_count": 55,
   "metadata": {
    "collapsed": true
   },
   "outputs": [],
   "source": [
    "from sklearn.model_selection import train_test_split\n",
    "\n",
    "x_train, x_test,y_train,y_test = train_test_split(features, label,test_size = 0.3, random_state = 0)"
   ]
  },
  {
   "cell_type": "markdown",
   "metadata": {},
   "source": [
    "### Linear SVM"
   ]
  },
  {
   "cell_type": "code",
   "execution_count": 56,
   "metadata": {},
   "outputs": [
    {
     "data": {
      "text/plain": [
       "LinearSVC(C=1.0, class_weight=None, dual=True, fit_intercept=True,\n",
       "     intercept_scaling=1, loss='squared_hinge', max_iter=1000,\n",
       "     multi_class='ovr', penalty='l2', random_state=None, tol=0.0001,\n",
       "     verbose=0)"
      ]
     },
     "execution_count": 56,
     "metadata": {},
     "output_type": "execute_result"
    }
   ],
   "source": [
    "from sklearn import svm\n",
    "lin_clf = svm.LinearSVC()\n",
    "lin_clf.fit(x_train,y_train) "
   ]
  },
  {
   "cell_type": "code",
   "execution_count": 57,
   "metadata": {
    "collapsed": true
   },
   "outputs": [],
   "source": [
    "y_pred = lin_clf.predict(x_test)"
   ]
  },
  {
   "cell_type": "code",
   "execution_count": 58,
   "metadata": {
    "collapsed": true
   },
   "outputs": [],
   "source": [
    "from sklearn.metrics import confusion_matrix\n",
    "conf_mat = confusion_matrix(y_test, y_pred)"
   ]
  },
  {
   "cell_type": "code",
   "execution_count": 59,
   "metadata": {},
   "outputs": [
    {
     "data": {
      "text/plain": [
       "array([[ 352,    4,   22,  349,  231],\n",
       "       [   6,  160,    4,   61,   14],\n",
       "       [  24,   10,  236,  181,   67],\n",
       "       [ 130,   31,   64, 3556,  364],\n",
       "       [ 101,    8,   56,  601, 1157]])"
      ]
     },
     "execution_count": 59,
     "metadata": {},
     "output_type": "execute_result"
    }
   ],
   "source": [
    "conf_mat"
   ]
  },
  {
   "cell_type": "code",
   "execution_count": 63,
   "metadata": {},
   "outputs": [
    {
     "name": "stdout",
     "output_type": "stream",
     "text": [
      "              precision    recall  f1-score   support\n",
      "\n",
      "     product       0.57      0.37      0.45       958\n",
      "tech support       0.75      0.65      0.70       245\n",
      "   marketing       0.62      0.46      0.52       518\n",
      "     content       0.75      0.86      0.80      4145\n",
      "       other       0.63      0.60      0.62      1923\n",
      "\n",
      " avg / total       0.69      0.70      0.69      7789\n",
      "\n"
     ]
    }
   ],
   "source": [
    "from sklearn import metrics\n",
    "print(metrics.classification_report(y_test, y_pred, target_names=label.unique()))\n"
   ]
  },
  {
   "cell_type": "markdown",
   "metadata": {},
   "source": [
    "#### unbalanced labels?"
   ]
  },
  {
   "cell_type": "code",
   "execution_count": 67,
   "metadata": {},
   "outputs": [
    {
     "data": {
      "text/html": [
       "<div>\n",
       "<style>\n",
       "    .dataframe thead tr:only-child th {\n",
       "        text-align: right;\n",
       "    }\n",
       "\n",
       "    .dataframe thead th {\n",
       "        text-align: left;\n",
       "    }\n",
       "\n",
       "    .dataframe tbody tr th {\n",
       "        vertical-align: top;\n",
       "    }\n",
       "</style>\n",
       "<table border=\"1\" class=\"dataframe\">\n",
       "  <thead>\n",
       "    <tr style=\"text-align: right;\">\n",
       "      <th></th>\n",
       "      <th>communicate</th>\n",
       "      <th>worry</th>\n",
       "      <th>odd</th>\n",
       "      <th>totally_useles</th>\n",
       "      <th>face</th>\n",
       "      <th>impressive</th>\n",
       "      <th>whenever</th>\n",
       "      <th>indoor</th>\n",
       "      <th>screen</th>\n",
       "      <th>let_register</th>\n",
       "      <th>...</th>\n",
       "      <th>stutter</th>\n",
       "      <th>g</th>\n",
       "      <th>mail_faulty</th>\n",
       "      <th>next</th>\n",
       "      <th>it`_shame</th>\n",
       "      <th>specify</th>\n",
       "      <th>nearly_worthles</th>\n",
       "      <th>send</th>\n",
       "      <th>recognize</th>\n",
       "      <th>fall</th>\n",
       "    </tr>\n",
       "    <tr>\n",
       "      <th>Label</th>\n",
       "      <th></th>\n",
       "      <th></th>\n",
       "      <th></th>\n",
       "      <th></th>\n",
       "      <th></th>\n",
       "      <th></th>\n",
       "      <th></th>\n",
       "      <th></th>\n",
       "      <th></th>\n",
       "      <th></th>\n",
       "      <th></th>\n",
       "      <th></th>\n",
       "      <th></th>\n",
       "      <th></th>\n",
       "      <th></th>\n",
       "      <th></th>\n",
       "      <th></th>\n",
       "      <th></th>\n",
       "      <th></th>\n",
       "      <th></th>\n",
       "      <th></th>\n",
       "    </tr>\n",
       "  </thead>\n",
       "  <tbody>\n",
       "    <tr>\n",
       "      <th>content</th>\n",
       "      <td>3160</td>\n",
       "      <td>3160</td>\n",
       "      <td>3160</td>\n",
       "      <td>3160</td>\n",
       "      <td>3160</td>\n",
       "      <td>3160</td>\n",
       "      <td>3160</td>\n",
       "      <td>3160</td>\n",
       "      <td>3160</td>\n",
       "      <td>3160</td>\n",
       "      <td>...</td>\n",
       "      <td>3160</td>\n",
       "      <td>3160</td>\n",
       "      <td>3160</td>\n",
       "      <td>3160</td>\n",
       "      <td>3160</td>\n",
       "      <td>3160</td>\n",
       "      <td>3160</td>\n",
       "      <td>3160</td>\n",
       "      <td>3160</td>\n",
       "      <td>3160</td>\n",
       "    </tr>\n",
       "    <tr>\n",
       "      <th>marketing</th>\n",
       "      <td>791</td>\n",
       "      <td>791</td>\n",
       "      <td>791</td>\n",
       "      <td>791</td>\n",
       "      <td>791</td>\n",
       "      <td>791</td>\n",
       "      <td>791</td>\n",
       "      <td>791</td>\n",
       "      <td>791</td>\n",
       "      <td>791</td>\n",
       "      <td>...</td>\n",
       "      <td>791</td>\n",
       "      <td>791</td>\n",
       "      <td>791</td>\n",
       "      <td>791</td>\n",
       "      <td>791</td>\n",
       "      <td>791</td>\n",
       "      <td>791</td>\n",
       "      <td>791</td>\n",
       "      <td>791</td>\n",
       "      <td>791</td>\n",
       "    </tr>\n",
       "    <tr>\n",
       "      <th>other</th>\n",
       "      <td>1778</td>\n",
       "      <td>1778</td>\n",
       "      <td>1778</td>\n",
       "      <td>1778</td>\n",
       "      <td>1778</td>\n",
       "      <td>1778</td>\n",
       "      <td>1778</td>\n",
       "      <td>1778</td>\n",
       "      <td>1778</td>\n",
       "      <td>1778</td>\n",
       "      <td>...</td>\n",
       "      <td>1778</td>\n",
       "      <td>1778</td>\n",
       "      <td>1778</td>\n",
       "      <td>1778</td>\n",
       "      <td>1778</td>\n",
       "      <td>1778</td>\n",
       "      <td>1778</td>\n",
       "      <td>1778</td>\n",
       "      <td>1778</td>\n",
       "      <td>1778</td>\n",
       "    </tr>\n",
       "    <tr>\n",
       "      <th>product</th>\n",
       "      <td>13898</td>\n",
       "      <td>13898</td>\n",
       "      <td>13898</td>\n",
       "      <td>13898</td>\n",
       "      <td>13898</td>\n",
       "      <td>13898</td>\n",
       "      <td>13898</td>\n",
       "      <td>13898</td>\n",
       "      <td>13898</td>\n",
       "      <td>13898</td>\n",
       "      <td>...</td>\n",
       "      <td>13898</td>\n",
       "      <td>13898</td>\n",
       "      <td>13898</td>\n",
       "      <td>13898</td>\n",
       "      <td>13898</td>\n",
       "      <td>13898</td>\n",
       "      <td>13898</td>\n",
       "      <td>13898</td>\n",
       "      <td>13898</td>\n",
       "      <td>13898</td>\n",
       "    </tr>\n",
       "    <tr>\n",
       "      <th>tech support</th>\n",
       "      <td>6335</td>\n",
       "      <td>6335</td>\n",
       "      <td>6335</td>\n",
       "      <td>6335</td>\n",
       "      <td>6335</td>\n",
       "      <td>6335</td>\n",
       "      <td>6335</td>\n",
       "      <td>6335</td>\n",
       "      <td>6335</td>\n",
       "      <td>6335</td>\n",
       "      <td>...</td>\n",
       "      <td>6335</td>\n",
       "      <td>6335</td>\n",
       "      <td>6335</td>\n",
       "      <td>6335</td>\n",
       "      <td>6335</td>\n",
       "      <td>6335</td>\n",
       "      <td>6335</td>\n",
       "      <td>6335</td>\n",
       "      <td>6335</td>\n",
       "      <td>6335</td>\n",
       "    </tr>\n",
       "  </tbody>\n",
       "</table>\n",
       "<p>5 rows × 2542 columns</p>\n",
       "</div>"
      ],
      "text/plain": [
       "              communicate  worry    odd  totally_useles   face  impressive  \\\n",
       "Label                                                                        \n",
       "content              3160   3160   3160            3160   3160        3160   \n",
       "marketing             791    791    791             791    791         791   \n",
       "other                1778   1778   1778            1778   1778        1778   \n",
       "product             13898  13898  13898           13898  13898       13898   \n",
       "tech support         6335   6335   6335            6335   6335        6335   \n",
       "\n",
       "              whenever  indoor  screen  let_register  ...    stutter      g  \\\n",
       "Label                                                 ...                     \n",
       "content           3160    3160    3160          3160  ...       3160   3160   \n",
       "marketing          791     791     791           791  ...        791    791   \n",
       "other             1778    1778    1778          1778  ...       1778   1778   \n",
       "product          13898   13898   13898         13898  ...      13898  13898   \n",
       "tech support      6335    6335    6335          6335  ...       6335   6335   \n",
       "\n",
       "              mail_faulty   next  it`_shame  specify  nearly_worthles   send  \\\n",
       "Label                                                                          \n",
       "content              3160   3160       3160     3160             3160   3160   \n",
       "marketing             791    791        791      791              791    791   \n",
       "other                1778   1778       1778     1778             1778   1778   \n",
       "product             13898  13898      13898    13898            13898  13898   \n",
       "tech support         6335   6335       6335     6335             6335   6335   \n",
       "\n",
       "              recognize   fall  \n",
       "Label                           \n",
       "content            3160   3160  \n",
       "marketing           791    791  \n",
       "other              1778   1778  \n",
       "product           13898  13898  \n",
       "tech support       6335   6335  \n",
       "\n",
       "[5 rows x 2542 columns]"
      ]
     },
     "execution_count": 67,
     "metadata": {},
     "output_type": "execute_result"
    }
   ],
   "source": [
    "data.groupby('Label').count()"
   ]
  },
  {
   "cell_type": "markdown",
   "metadata": {},
   "source": [
    "### Exploratory Analysis"
   ]
  },
  {
   "cell_type": "code",
   "execution_count": 18,
   "metadata": {},
   "outputs": [
    {
     "data": {
      "text/html": [
       "<div>\n",
       "<style>\n",
       "    .dataframe thead tr:only-child th {\n",
       "        text-align: right;\n",
       "    }\n",
       "\n",
       "    .dataframe thead th {\n",
       "        text-align: left;\n",
       "    }\n",
       "\n",
       "    .dataframe tbody tr th {\n",
       "        vertical-align: top;\n",
       "    }\n",
       "</style>\n",
       "<table border=\"1\" class=\"dataframe\">\n",
       "  <thead>\n",
       "    <tr style=\"text-align: right;\">\n",
       "      <th></th>\n",
       "      <th>communicate</th>\n",
       "      <th>worry</th>\n",
       "      <th>odd</th>\n",
       "      <th>totally_useles</th>\n",
       "      <th>face</th>\n",
       "      <th>impressive</th>\n",
       "      <th>whenever</th>\n",
       "      <th>indoor</th>\n",
       "      <th>screen</th>\n",
       "      <th>let_register</th>\n",
       "      <th>...</th>\n",
       "      <th>g</th>\n",
       "      <th>mail_faulty</th>\n",
       "      <th>next</th>\n",
       "      <th>it`_shame</th>\n",
       "      <th>specify</th>\n",
       "      <th>nearly_worthles</th>\n",
       "      <th>send</th>\n",
       "      <th>recognize</th>\n",
       "      <th>fall</th>\n",
       "      <th>Label</th>\n",
       "    </tr>\n",
       "  </thead>\n",
       "  <tbody>\n",
       "    <tr>\n",
       "      <th>0</th>\n",
       "      <td>0</td>\n",
       "      <td>0</td>\n",
       "      <td>0</td>\n",
       "      <td>0</td>\n",
       "      <td>0</td>\n",
       "      <td>0</td>\n",
       "      <td>0</td>\n",
       "      <td>0</td>\n",
       "      <td>0</td>\n",
       "      <td>0</td>\n",
       "      <td>...</td>\n",
       "      <td>0</td>\n",
       "      <td>0</td>\n",
       "      <td>0</td>\n",
       "      <td>0</td>\n",
       "      <td>0</td>\n",
       "      <td>0</td>\n",
       "      <td>0</td>\n",
       "      <td>0</td>\n",
       "      <td>0</td>\n",
       "      <td>product</td>\n",
       "    </tr>\n",
       "    <tr>\n",
       "      <th>1</th>\n",
       "      <td>0</td>\n",
       "      <td>0</td>\n",
       "      <td>0</td>\n",
       "      <td>0</td>\n",
       "      <td>0</td>\n",
       "      <td>0</td>\n",
       "      <td>0</td>\n",
       "      <td>0</td>\n",
       "      <td>0</td>\n",
       "      <td>0</td>\n",
       "      <td>...</td>\n",
       "      <td>0</td>\n",
       "      <td>0</td>\n",
       "      <td>0</td>\n",
       "      <td>0</td>\n",
       "      <td>0</td>\n",
       "      <td>0</td>\n",
       "      <td>0</td>\n",
       "      <td>0</td>\n",
       "      <td>0</td>\n",
       "      <td>product</td>\n",
       "    </tr>\n",
       "    <tr>\n",
       "      <th>2</th>\n",
       "      <td>0</td>\n",
       "      <td>0</td>\n",
       "      <td>0</td>\n",
       "      <td>0</td>\n",
       "      <td>0</td>\n",
       "      <td>0</td>\n",
       "      <td>0</td>\n",
       "      <td>0</td>\n",
       "      <td>0</td>\n",
       "      <td>0</td>\n",
       "      <td>...</td>\n",
       "      <td>0</td>\n",
       "      <td>0</td>\n",
       "      <td>0</td>\n",
       "      <td>0</td>\n",
       "      <td>0</td>\n",
       "      <td>0</td>\n",
       "      <td>0</td>\n",
       "      <td>0</td>\n",
       "      <td>0</td>\n",
       "      <td>product</td>\n",
       "    </tr>\n",
       "    <tr>\n",
       "      <th>3</th>\n",
       "      <td>0</td>\n",
       "      <td>0</td>\n",
       "      <td>0</td>\n",
       "      <td>0</td>\n",
       "      <td>0</td>\n",
       "      <td>0</td>\n",
       "      <td>0</td>\n",
       "      <td>0</td>\n",
       "      <td>0</td>\n",
       "      <td>0</td>\n",
       "      <td>...</td>\n",
       "      <td>0</td>\n",
       "      <td>0</td>\n",
       "      <td>0</td>\n",
       "      <td>0</td>\n",
       "      <td>0</td>\n",
       "      <td>0</td>\n",
       "      <td>0</td>\n",
       "      <td>0</td>\n",
       "      <td>0</td>\n",
       "      <td>tech support</td>\n",
       "    </tr>\n",
       "    <tr>\n",
       "      <th>4</th>\n",
       "      <td>0</td>\n",
       "      <td>0</td>\n",
       "      <td>0</td>\n",
       "      <td>0</td>\n",
       "      <td>0</td>\n",
       "      <td>0</td>\n",
       "      <td>0</td>\n",
       "      <td>0</td>\n",
       "      <td>0</td>\n",
       "      <td>0</td>\n",
       "      <td>...</td>\n",
       "      <td>0</td>\n",
       "      <td>0</td>\n",
       "      <td>0</td>\n",
       "      <td>0</td>\n",
       "      <td>0</td>\n",
       "      <td>0</td>\n",
       "      <td>0</td>\n",
       "      <td>0</td>\n",
       "      <td>0</td>\n",
       "      <td>product</td>\n",
       "    </tr>\n",
       "  </tbody>\n",
       "</table>\n",
       "<p>5 rows × 2543 columns</p>\n",
       "</div>"
      ],
      "text/plain": [
       "  communicate worry odd totally_useles face impressive whenever indoor screen  \\\n",
       "0           0     0   0              0    0          0        0      0      0   \n",
       "1           0     0   0              0    0          0        0      0      0   \n",
       "2           0     0   0              0    0          0        0      0      0   \n",
       "3           0     0   0              0    0          0        0      0      0   \n",
       "4           0     0   0              0    0          0        0      0      0   \n",
       "\n",
       "  let_register      ...       g mail_faulty next it`_shame specify  \\\n",
       "0            0      ...       0           0    0         0       0   \n",
       "1            0      ...       0           0    0         0       0   \n",
       "2            0      ...       0           0    0         0       0   \n",
       "3            0      ...       0           0    0         0       0   \n",
       "4            0      ...       0           0    0         0       0   \n",
       "\n",
       "  nearly_worthles send recognize fall         Label  \n",
       "0               0    0         0    0       product  \n",
       "1               0    0         0    0       product  \n",
       "2               0    0         0    0       product  \n",
       "3               0    0         0    0  tech support  \n",
       "4               0    0         0    0       product  \n",
       "\n",
       "[5 rows x 2543 columns]"
      ]
     },
     "execution_count": 18,
     "metadata": {},
     "output_type": "execute_result"
    }
   ],
   "source": [
    "data.head()"
   ]
  },
  {
   "cell_type": "code",
   "execution_count": 26,
   "metadata": {
    "collapsed": true
   },
   "outputs": [],
   "source": [
    "data['Label']=data['Label'].str.replace('content ','content')"
   ]
  },
  {
   "cell_type": "code",
   "execution_count": 28,
   "metadata": {
    "collapsed": true
   },
   "outputs": [],
   "source": [
    "data['Label']=data['Label'].str.replace('other ','other')"
   ]
  },
  {
   "cell_type": "code",
   "execution_count": 12,
   "metadata": {},
   "outputs": [
    {
     "data": {
      "text/plain": [
       "product         13898\n",
       "tech support     6335\n",
       "content          3160\n",
       "other            1778\n",
       "marketing         791\n",
       "Name: Label, dtype: int64"
      ]
     },
     "execution_count": 12,
     "metadata": {},
     "output_type": "execute_result"
    }
   ],
   "source": [
    "data.Label.value_counts()"
   ]
  },
  {
   "cell_type": "code",
   "execution_count": 24,
   "metadata": {
    "collapsed": true
   },
   "outputs": [],
   "source": [
    "label = data['Label']\n",
    "features = data.iloc[:,:2542]"
   ]
  },
  {
   "cell_type": "code",
   "execution_count": 25,
   "metadata": {},
   "outputs": [
    {
     "data": {
      "text/html": [
       "<div>\n",
       "<style>\n",
       "    .dataframe thead tr:only-child th {\n",
       "        text-align: right;\n",
       "    }\n",
       "\n",
       "    .dataframe thead th {\n",
       "        text-align: left;\n",
       "    }\n",
       "\n",
       "    .dataframe tbody tr th {\n",
       "        vertical-align: top;\n",
       "    }\n",
       "</style>\n",
       "<table border=\"1\" class=\"dataframe\">\n",
       "  <thead>\n",
       "    <tr style=\"text-align: right;\">\n",
       "      <th></th>\n",
       "      <th>communicate</th>\n",
       "      <th>worry</th>\n",
       "      <th>odd</th>\n",
       "      <th>totally_useles</th>\n",
       "      <th>face</th>\n",
       "      <th>impressive</th>\n",
       "      <th>whenever</th>\n",
       "      <th>indoor</th>\n",
       "      <th>screen</th>\n",
       "      <th>let_register</th>\n",
       "      <th>...</th>\n",
       "      <th>stutter</th>\n",
       "      <th>g</th>\n",
       "      <th>mail_faulty</th>\n",
       "      <th>next</th>\n",
       "      <th>it`_shame</th>\n",
       "      <th>specify</th>\n",
       "      <th>nearly_worthles</th>\n",
       "      <th>send</th>\n",
       "      <th>recognize</th>\n",
       "      <th>fall</th>\n",
       "    </tr>\n",
       "  </thead>\n",
       "  <tbody>\n",
       "    <tr>\n",
       "      <th>0</th>\n",
       "      <td>0</td>\n",
       "      <td>0</td>\n",
       "      <td>0</td>\n",
       "      <td>0</td>\n",
       "      <td>0</td>\n",
       "      <td>0</td>\n",
       "      <td>0</td>\n",
       "      <td>0</td>\n",
       "      <td>0</td>\n",
       "      <td>0</td>\n",
       "      <td>...</td>\n",
       "      <td>0</td>\n",
       "      <td>0</td>\n",
       "      <td>0</td>\n",
       "      <td>0</td>\n",
       "      <td>0</td>\n",
       "      <td>0</td>\n",
       "      <td>0</td>\n",
       "      <td>0</td>\n",
       "      <td>0</td>\n",
       "      <td>0</td>\n",
       "    </tr>\n",
       "    <tr>\n",
       "      <th>1</th>\n",
       "      <td>0</td>\n",
       "      <td>0</td>\n",
       "      <td>0</td>\n",
       "      <td>0</td>\n",
       "      <td>0</td>\n",
       "      <td>0</td>\n",
       "      <td>0</td>\n",
       "      <td>0</td>\n",
       "      <td>0</td>\n",
       "      <td>0</td>\n",
       "      <td>...</td>\n",
       "      <td>0</td>\n",
       "      <td>0</td>\n",
       "      <td>0</td>\n",
       "      <td>0</td>\n",
       "      <td>0</td>\n",
       "      <td>0</td>\n",
       "      <td>0</td>\n",
       "      <td>0</td>\n",
       "      <td>0</td>\n",
       "      <td>0</td>\n",
       "    </tr>\n",
       "    <tr>\n",
       "      <th>2</th>\n",
       "      <td>0</td>\n",
       "      <td>0</td>\n",
       "      <td>0</td>\n",
       "      <td>0</td>\n",
       "      <td>0</td>\n",
       "      <td>0</td>\n",
       "      <td>0</td>\n",
       "      <td>0</td>\n",
       "      <td>0</td>\n",
       "      <td>0</td>\n",
       "      <td>...</td>\n",
       "      <td>0</td>\n",
       "      <td>0</td>\n",
       "      <td>0</td>\n",
       "      <td>0</td>\n",
       "      <td>0</td>\n",
       "      <td>0</td>\n",
       "      <td>0</td>\n",
       "      <td>0</td>\n",
       "      <td>0</td>\n",
       "      <td>0</td>\n",
       "    </tr>\n",
       "    <tr>\n",
       "      <th>3</th>\n",
       "      <td>0</td>\n",
       "      <td>0</td>\n",
       "      <td>0</td>\n",
       "      <td>0</td>\n",
       "      <td>0</td>\n",
       "      <td>0</td>\n",
       "      <td>0</td>\n",
       "      <td>0</td>\n",
       "      <td>0</td>\n",
       "      <td>0</td>\n",
       "      <td>...</td>\n",
       "      <td>0</td>\n",
       "      <td>0</td>\n",
       "      <td>0</td>\n",
       "      <td>0</td>\n",
       "      <td>0</td>\n",
       "      <td>0</td>\n",
       "      <td>0</td>\n",
       "      <td>0</td>\n",
       "      <td>0</td>\n",
       "      <td>0</td>\n",
       "    </tr>\n",
       "    <tr>\n",
       "      <th>4</th>\n",
       "      <td>0</td>\n",
       "      <td>0</td>\n",
       "      <td>0</td>\n",
       "      <td>0</td>\n",
       "      <td>0</td>\n",
       "      <td>0</td>\n",
       "      <td>0</td>\n",
       "      <td>0</td>\n",
       "      <td>0</td>\n",
       "      <td>0</td>\n",
       "      <td>...</td>\n",
       "      <td>0</td>\n",
       "      <td>0</td>\n",
       "      <td>0</td>\n",
       "      <td>0</td>\n",
       "      <td>0</td>\n",
       "      <td>0</td>\n",
       "      <td>0</td>\n",
       "      <td>0</td>\n",
       "      <td>0</td>\n",
       "      <td>0</td>\n",
       "    </tr>\n",
       "  </tbody>\n",
       "</table>\n",
       "<p>5 rows × 2542 columns</p>\n",
       "</div>"
      ],
      "text/plain": [
       "  communicate worry odd totally_useles face impressive whenever indoor screen  \\\n",
       "0           0     0   0              0    0          0        0      0      0   \n",
       "1           0     0   0              0    0          0        0      0      0   \n",
       "2           0     0   0              0    0          0        0      0      0   \n",
       "3           0     0   0              0    0          0        0      0      0   \n",
       "4           0     0   0              0    0          0        0      0      0   \n",
       "\n",
       "  let_register ...  stutter  g mail_faulty next it`_shame specify  \\\n",
       "0            0 ...        0  0           0    0         0       0   \n",
       "1            0 ...        0  0           0    0         0       0   \n",
       "2            0 ...        0  0           0    0         0       0   \n",
       "3            0 ...        0  0           0    0         0       0   \n",
       "4            0 ...        0  0           0    0         0       0   \n",
       "\n",
       "  nearly_worthles send recognize fall  \n",
       "0               0    0         0    0  \n",
       "1               0    0         0    0  \n",
       "2               0    0         0    0  \n",
       "3               0    0         0    0  \n",
       "4               0    0         0    0  \n",
       "\n",
       "[5 rows x 2542 columns]"
      ]
     },
     "execution_count": 25,
     "metadata": {},
     "output_type": "execute_result"
    }
   ],
   "source": [
    "features.head()"
   ]
  },
  {
   "cell_type": "code",
   "execution_count": 49,
   "metadata": {},
   "outputs": [
    {
     "data": {
      "text/plain": [
       "communicate             object\n",
       "worry                   object\n",
       "odd                     object\n",
       "totally_useles          object\n",
       "face                    object\n",
       "impressive              object\n",
       "whenever                object\n",
       "indoor                  object\n",
       "screen                  object\n",
       "let_register            object\n",
       "arm_disarm              object\n",
       "assign                  object\n",
       "web_interface           object\n",
       "automatically_switch    object\n",
       "brand                   object\n",
       "son_drill               object\n",
       "wireless_rdquo          object\n",
       "operate_assumption      object\n",
       "wonâ€™t                 object\n",
       "review                  object\n",
       "listen_music            object\n",
       "department              object\n",
       "let`                    object\n",
       "brand_new               object\n",
       "first                   object\n",
       "bp                      object\n",
       "physically              object\n",
       "first_floor             object\n",
       "location                object\n",
       "reviewer                object\n",
       "                         ...  \n",
       "nighthawk_ac2300        object\n",
       "shouldn`t               object\n",
       "hype                    object\n",
       "position                object\n",
       "worth                   object\n",
       "bell                    object\n",
       "time_capsule            object\n",
       "half                    object\n",
       "main                    object\n",
       "small                   object\n",
       "alert                   object\n",
       "photo                   object\n",
       "fire                    object\n",
       "50_mbp                  object\n",
       "five                    object\n",
       "february                object\n",
       "wait_slight             object\n",
       "big_deal                object\n",
       "n300                    object\n",
       "frustration             object\n",
       "stutter                 object\n",
       "g                       object\n",
       "mail_faulty             object\n",
       "next                    object\n",
       "it`_shame               object\n",
       "specify                 object\n",
       "nearly_worthles         object\n",
       "send                    object\n",
       "recognize               object\n",
       "fall                    object\n",
       "Length: 2542, dtype: object"
      ]
     },
     "execution_count": 49,
     "metadata": {},
     "output_type": "execute_result"
    }
   ],
   "source": [
    "features.dtypes"
   ]
  },
  {
   "cell_type": "code",
   "execution_count": 53,
   "metadata": {},
   "outputs": [
    {
     "name": "stderr",
     "output_type": "stream",
     "text": [
      "/Users/liuying/anaconda3/lib/python3.6/site-packages/ipykernel_launcher.py:1: FutureWarning: convert_objects is deprecated.  Use the data-type specific converters pd.to_datetime, pd.to_timedelta and pd.to_numeric.\n",
      "  \"\"\"Entry point for launching an IPython kernel.\n"
     ]
    }
   ],
   "source": [
    "features = features.convert_objects(convert_numeric=True)"
   ]
  },
  {
   "cell_type": "code",
   "execution_count": 67,
   "metadata": {
    "collapsed": true
   },
   "outputs": [],
   "source": [
    "total = np.array(features.sum(axis = 0))"
   ]
  },
  {
   "cell_type": "code",
   "execution_count": 58,
   "metadata": {
    "collapsed": true
   },
   "outputs": [],
   "source": [
    "word = features.columns"
   ]
  },
  {
   "cell_type": "code",
   "execution_count": 70,
   "metadata": {
    "collapsed": true
   },
   "outputs": [],
   "source": [
    "import numpy as np\n",
    "\n",
    "word_count = np.column_stack((word,total))"
   ]
  },
  {
   "cell_type": "code",
   "execution_count": 78,
   "metadata": {
    "collapsed": true
   },
   "outputs": [],
   "source": [
    "rank = np.argsort(-total)"
   ]
  },
  {
   "cell_type": "code",
   "execution_count": 86,
   "metadata": {
    "collapsed": true
   },
   "outputs": [],
   "source": [
    "word_count = word_count[rank]"
   ]
  },
  {
   "cell_type": "code",
   "execution_count": 94,
   "metadata": {},
   "outputs": [
    {
     "data": {
      "text/plain": [
       "array([['work', 11734.0],\n",
       "       ['router', 11734.0],\n",
       "       ['get', 7115.0],\n",
       "       ['netgear', 7068.0],\n",
       "       ['modem', 4841.0],\n",
       "       ['wifi', 4455.0],\n",
       "       ['buy', 4235.0],\n",
       "       ['connect', 4135.0],\n",
       "       ['one', 4109.0],\n",
       "       ['device', 4046.0],\n",
       "       ['product', 3857.0],\n",
       "       ['would', 3719.0],\n",
       "       ['time', 3637.0],\n",
       "       ['internet', 3603.0],\n",
       "       ['camera', 3221.0],\n",
       "       ['try', 3096.0],\n",
       "       ['support', 3051.0],\n",
       "       ['go', 3012.0],\n",
       "       ['need', 2726.0],\n",
       "       ['use', 2710.0],\n",
       "       ['issue', 2526.0],\n",
       "       ['return', 2511.0],\n",
       "       ['connection', 2405.0],\n",
       "       ['day', 2380.0]], dtype=object)"
      ]
     },
     "execution_count": 94,
     "metadata": {},
     "output_type": "execute_result"
    }
   ],
   "source": [
    "word_count[0:24]"
   ]
  },
  {
   "cell_type": "markdown",
   "metadata": {
    "collapsed": true
   },
   "source": [
    "### information score"
   ]
  },
  {
   "cell_type": "code",
   "execution_count": 3,
   "metadata": {},
   "outputs": [
    {
     "name": "stderr",
     "output_type": "stream",
     "text": [
      "/Users/liuying/anaconda3/lib/python3.6/site-packages/IPython/core/interactiveshell.py:2698: DtypeWarning: Columns (21) have mixed types. Specify dtype option on import or set low_memory=False.\n",
      "  interactivity=interactivity, compiler=compiler, result=result)\n"
     ]
    }
   ],
   "source": [
    "import pandas as pd\n",
    "\n",
    "info = pd.read_csv(\"rawdata_w_metrics.csv\")"
   ]
  },
  {
   "cell_type": "code",
   "execution_count": 9,
   "metadata": {},
   "outputs": [
    {
     "data": {
      "text/html": [
       "<div>\n",
       "<style>\n",
       "    .dataframe thead tr:only-child th {\n",
       "        text-align: right;\n",
       "    }\n",
       "\n",
       "    .dataframe thead th {\n",
       "        text-align: left;\n",
       "    }\n",
       "\n",
       "    .dataframe tbody tr th {\n",
       "        vertical-align: top;\n",
       "    }\n",
       "</style>\n",
       "<table border=\"1\" class=\"dataframe\">\n",
       "  <thead>\n",
       "    <tr style=\"text-align: right;\">\n",
       "      <th></th>\n",
       "      <th>Unnamed: 0</th>\n",
       "      <th>id</th>\n",
       "      <th>Date</th>\n",
       "      <th>Brand</th>\n",
       "      <th>Product</th>\n",
       "      <th>Product ID</th>\n",
       "      <th>Rating</th>\n",
       "      <th>Source</th>\n",
       "      <th>Review Status</th>\n",
       "      <th>Review Status Date</th>\n",
       "      <th>...</th>\n",
       "      <th>Status</th>\n",
       "      <th>Replied To</th>\n",
       "      <th>Internal Comments</th>\n",
       "      <th>Permalink</th>\n",
       "      <th>unif</th>\n",
       "      <th>review_len</th>\n",
       "      <th>num_unique_words</th>\n",
       "      <th>num_exclamation</th>\n",
       "      <th>num_question</th>\n",
       "      <th>num_same_review</th>\n",
       "    </tr>\n",
       "  </thead>\n",
       "  <tbody>\n",
       "    <tr>\n",
       "      <th>0</th>\n",
       "      <td>0</td>\n",
       "      <td>1</td>\n",
       "      <td>7/13/18</td>\n",
       "      <td>Netgear</td>\n",
       "      <td>Orbi</td>\n",
       "      <td>30947</td>\n",
       "      <td>1</td>\n",
       "      <td>amazon</td>\n",
       "      <td>Active</td>\n",
       "      <td>8/5/18</td>\n",
       "      <td>...</td>\n",
       "      <td>None</td>\n",
       "      <td>No</td>\n",
       "      <td>NaN</td>\n",
       "      <td>http://www.amazon.com/gp/customer-reviews/R28S...</td>\n",
       "      <td>0.048944</td>\n",
       "      <td>311</td>\n",
       "      <td>43</td>\n",
       "      <td>0</td>\n",
       "      <td>0</td>\n",
       "      <td>2</td>\n",
       "    </tr>\n",
       "    <tr>\n",
       "      <th>1</th>\n",
       "      <td>1</td>\n",
       "      <td>2677</td>\n",
       "      <td>7/13/18</td>\n",
       "      <td>Netgear</td>\n",
       "      <td>Orbi</td>\n",
       "      <td>21796</td>\n",
       "      <td>1</td>\n",
       "      <td>amazon</td>\n",
       "      <td>Active</td>\n",
       "      <td>7/16/18</td>\n",
       "      <td>...</td>\n",
       "      <td>None</td>\n",
       "      <td>No</td>\n",
       "      <td>NaN</td>\n",
       "      <td>http://www.amazon.com/gp/customer-reviews/R28S...</td>\n",
       "      <td>0.798543</td>\n",
       "      <td>311</td>\n",
       "      <td>43</td>\n",
       "      <td>0</td>\n",
       "      <td>0</td>\n",
       "      <td>2</td>\n",
       "    </tr>\n",
       "    <tr>\n",
       "      <th>2</th>\n",
       "      <td>2</td>\n",
       "      <td>2</td>\n",
       "      <td>7/13/18</td>\n",
       "      <td>Netgear</td>\n",
       "      <td>R6700</td>\n",
       "      <td>25069</td>\n",
       "      <td>1</td>\n",
       "      <td>amazon</td>\n",
       "      <td>Active</td>\n",
       "      <td>7/25/18</td>\n",
       "      <td>...</td>\n",
       "      <td>None</td>\n",
       "      <td>No</td>\n",
       "      <td>NaN</td>\n",
       "      <td>http://www.amazon.com/gp/customer-reviews/R3DY...</td>\n",
       "      <td>0.243274</td>\n",
       "      <td>402</td>\n",
       "      <td>54</td>\n",
       "      <td>0</td>\n",
       "      <td>0</td>\n",
       "      <td>1</td>\n",
       "    </tr>\n",
       "    <tr>\n",
       "      <th>3</th>\n",
       "      <td>3</td>\n",
       "      <td>3</td>\n",
       "      <td>7/13/18</td>\n",
       "      <td>Netgear</td>\n",
       "      <td>Cable Orbi</td>\n",
       "      <td>30578</td>\n",
       "      <td>Q&amp;A</td>\n",
       "      <td>amazon</td>\n",
       "      <td>Active</td>\n",
       "      <td>7/14/18</td>\n",
       "      <td>...</td>\n",
       "      <td>None</td>\n",
       "      <td>No</td>\n",
       "      <td>NaN</td>\n",
       "      <td>http://www.amazon.com/ask/questions/Tx9IGXJ9AV...</td>\n",
       "      <td>0.165898</td>\n",
       "      <td>150</td>\n",
       "      <td>29</td>\n",
       "      <td>0</td>\n",
       "      <td>1</td>\n",
       "      <td>2</td>\n",
       "    </tr>\n",
       "    <tr>\n",
       "      <th>4</th>\n",
       "      <td>4</td>\n",
       "      <td>2711</td>\n",
       "      <td>7/13/18</td>\n",
       "      <td>Netgear</td>\n",
       "      <td>Orbi 4 pack</td>\n",
       "      <td>28503</td>\n",
       "      <td>Q&amp;A</td>\n",
       "      <td>amazon</td>\n",
       "      <td>Active</td>\n",
       "      <td>7/13/18</td>\n",
       "      <td>...</td>\n",
       "      <td>Resolved</td>\n",
       "      <td>Yes</td>\n",
       "      <td>linked to find your orbi</td>\n",
       "      <td>http://www.amazon.com/ask/questions/Tx9IGXJ9AV...</td>\n",
       "      <td>0.941623</td>\n",
       "      <td>150</td>\n",
       "      <td>29</td>\n",
       "      <td>0</td>\n",
       "      <td>1</td>\n",
       "      <td>2</td>\n",
       "    </tr>\n",
       "  </tbody>\n",
       "</table>\n",
       "<p>5 rows × 49 columns</p>\n",
       "</div>"
      ],
      "text/plain": [
       "   Unnamed: 0    id     Date    Brand      Product  Product ID Rating  Source  \\\n",
       "0           0     1  7/13/18  Netgear         Orbi       30947      1  amazon   \n",
       "1           1  2677  7/13/18  Netgear         Orbi       21796      1  amazon   \n",
       "2           2     2  7/13/18  Netgear        R6700       25069      1  amazon   \n",
       "3           3     3  7/13/18  Netgear   Cable Orbi       30578    Q&A  amazon   \n",
       "4           4  2711  7/13/18  Netgear  Orbi 4 pack       28503    Q&A  amazon   \n",
       "\n",
       "  Review Status Review Status Date       ...           Status Replied To  \\\n",
       "0        Active             8/5/18       ...             None         No   \n",
       "1        Active            7/16/18       ...             None         No   \n",
       "2        Active            7/25/18       ...             None         No   \n",
       "3        Active            7/14/18       ...             None         No   \n",
       "4        Active            7/13/18       ...         Resolved        Yes   \n",
       "\n",
       "          Internal Comments  \\\n",
       "0                       NaN   \n",
       "1                       NaN   \n",
       "2                       NaN   \n",
       "3                       NaN   \n",
       "4  linked to find your orbi   \n",
       "\n",
       "                                           Permalink      unif review_len  \\\n",
       "0  http://www.amazon.com/gp/customer-reviews/R28S...  0.048944        311   \n",
       "1  http://www.amazon.com/gp/customer-reviews/R28S...  0.798543        311   \n",
       "2  http://www.amazon.com/gp/customer-reviews/R3DY...  0.243274        402   \n",
       "3  http://www.amazon.com/ask/questions/Tx9IGXJ9AV...  0.165898        150   \n",
       "4  http://www.amazon.com/ask/questions/Tx9IGXJ9AV...  0.941623        150   \n",
       "\n",
       "  num_unique_words num_exclamation num_question  num_same_review  \n",
       "0               43               0            0                2  \n",
       "1               43               0            0                2  \n",
       "2               54               0            0                1  \n",
       "3               29               0            1                2  \n",
       "4               29               0            1                2  \n",
       "\n",
       "[5 rows x 49 columns]"
      ]
     },
     "execution_count": 9,
     "metadata": {},
     "output_type": "execute_result"
    }
   ],
   "source": [
    "info.head()"
   ]
  },
  {
   "cell_type": "code",
   "execution_count": 10,
   "metadata": {
    "collapsed": true
   },
   "outputs": [],
   "source": [
    "del info['Unnamed: 0']"
   ]
  },
  {
   "cell_type": "code",
   "execution_count": 11,
   "metadata": {},
   "outputs": [
    {
     "data": {
      "text/plain": [
       "Index(['id', 'Date', 'Brand', 'Product', 'Product ID', 'Rating', 'Source',\n",
       "       'Review Status', 'Review Status Date', 'Reviewer Name', 'Reviewer ID',\n",
       "       'Review', 'Label', 'Review ID', 'Title', 'Syndicated',\n",
       "       'Incentive Program', 'Verified Review', 'Price', 'Size', 'Color',\n",
       "       'Edition', 'Style', 'Other Attributes', 'Helpful Votes',\n",
       "       'Top Contributor', 'Media(Picture/Video)', 'Model', 'ASIN',\n",
       "       'ASIN Reviews Link', 'SKU', 'Category', 'Tag', 'NPS',\n",
       "       'Displayed Rating', 'Competitor', 'Sentiment Score',\n",
       "       'Sentiment Magnitude', 'Status', 'Replied To', 'Internal Comments',\n",
       "       'Permalink', 'unif', 'review_len', 'num_unique_words',\n",
       "       'num_exclamation', 'num_question', 'num_same_review'],\n",
       "      dtype='object')"
      ]
     },
     "execution_count": 11,
     "metadata": {},
     "output_type": "execute_result"
    }
   ],
   "source": [
    "info.columns"
   ]
  },
  {
   "cell_type": "code",
   "execution_count": 4,
   "metadata": {
    "collapsed": true
   },
   "outputs": [],
   "source": [
    "score = info[['Review','review_len','num_unique_words','num_exclamation','num_question','num_same_review']]"
   ]
  },
  {
   "cell_type": "code",
   "execution_count": 34,
   "metadata": {},
   "outputs": [
    {
     "data": {
      "text/plain": [
       "Review              object\n",
       "review_len           int64\n",
       "num_unique_words     int64\n",
       "num_exclamation      int64\n",
       "num_question         int64\n",
       "num_same_review      int64\n",
       "dtype: object"
      ]
     },
     "execution_count": 34,
     "metadata": {},
     "output_type": "execute_result"
    }
   ],
   "source": [
    "score.dtypes"
   ]
  },
  {
   "cell_type": "code",
   "execution_count": 2,
   "metadata": {
    "collapsed": true
   },
   "outputs": [],
   "source": [
    "top_word = data[['word','router','support','modem','wifi','connect','get','phone','netgear','use','need',\n",
    "                'internet','return','buy','one','device','product','camera','price','Label']]"
   ]
  },
  {
   "cell_type": "code",
   "execution_count": 5,
   "metadata": {
    "collapsed": true
   },
   "outputs": [],
   "source": [
    "info_score = pd.concat([score,top_word],axis = 1)"
   ]
  },
  {
   "cell_type": "code",
   "execution_count": 9,
   "metadata": {
    "scrolled": true
   },
   "outputs": [
    {
     "data": {
      "text/html": [
       "<div>\n",
       "<style>\n",
       "    .dataframe thead tr:only-child th {\n",
       "        text-align: right;\n",
       "    }\n",
       "\n",
       "    .dataframe thead th {\n",
       "        text-align: left;\n",
       "    }\n",
       "\n",
       "    .dataframe tbody tr th {\n",
       "        vertical-align: top;\n",
       "    }\n",
       "</style>\n",
       "<table border=\"1\" class=\"dataframe\">\n",
       "  <thead>\n",
       "    <tr style=\"text-align: right;\">\n",
       "      <th></th>\n",
       "      <th>Review</th>\n",
       "      <th>review_len</th>\n",
       "      <th>num_unique_words</th>\n",
       "      <th>num_exclamation</th>\n",
       "      <th>num_question</th>\n",
       "      <th>num_same_review</th>\n",
       "      <th>word</th>\n",
       "      <th>router</th>\n",
       "      <th>support</th>\n",
       "      <th>modem</th>\n",
       "      <th>...</th>\n",
       "      <th>need</th>\n",
       "      <th>internet</th>\n",
       "      <th>return</th>\n",
       "      <th>buy</th>\n",
       "      <th>one</th>\n",
       "      <th>device</th>\n",
       "      <th>product</th>\n",
       "      <th>camera</th>\n",
       "      <th>price</th>\n",
       "      <th>Label</th>\n",
       "    </tr>\n",
       "  </thead>\n",
       "  <tbody>\n",
       "    <tr>\n",
       "      <th>2</th>\n",
       "      <td>Less than two years in and it`s a paperweight....</td>\n",
       "      <td>402</td>\n",
       "      <td>54</td>\n",
       "      <td>0</td>\n",
       "      <td>0</td>\n",
       "      <td>1</td>\n",
       "      <td>0.0</td>\n",
       "      <td>0.0</td>\n",
       "      <td>0.0</td>\n",
       "      <td>0.0</td>\n",
       "      <td>...</td>\n",
       "      <td>1.0</td>\n",
       "      <td>0.0</td>\n",
       "      <td>0.0</td>\n",
       "      <td>0.0</td>\n",
       "      <td>0.0</td>\n",
       "      <td>0.0</td>\n",
       "      <td>0.0</td>\n",
       "      <td>1.0</td>\n",
       "      <td>0.0</td>\n",
       "      <td>product</td>\n",
       "    </tr>\n",
       "    <tr>\n",
       "      <th>3</th>\n",
       "      <td>Does it do a good job boosting signal outside?...</td>\n",
       "      <td>150</td>\n",
       "      <td>29</td>\n",
       "      <td>0</td>\n",
       "      <td>1</td>\n",
       "      <td>2</td>\n",
       "      <td>0.0</td>\n",
       "      <td>2.0</td>\n",
       "      <td>0.0</td>\n",
       "      <td>1.0</td>\n",
       "      <td>...</td>\n",
       "      <td>0.0</td>\n",
       "      <td>1.0</td>\n",
       "      <td>0.0</td>\n",
       "      <td>0.0</td>\n",
       "      <td>0.0</td>\n",
       "      <td>0.0</td>\n",
       "      <td>0.0</td>\n",
       "      <td>0.0</td>\n",
       "      <td>0.0</td>\n",
       "      <td>tech support</td>\n",
       "    </tr>\n",
       "  </tbody>\n",
       "</table>\n",
       "<p>2 rows × 26 columns</p>\n",
       "</div>"
      ],
      "text/plain": [
       "                                              Review  review_len  \\\n",
       "2  Less than two years in and it`s a paperweight....         402   \n",
       "3  Does it do a good job boosting signal outside?...         150   \n",
       "\n",
       "   num_unique_words  num_exclamation  num_question  num_same_review  word  \\\n",
       "2                54                0             0                1   0.0   \n",
       "3                29                0             1                2   0.0   \n",
       "\n",
       "   router  support  modem      ...       need  internet  return  buy  one  \\\n",
       "2     0.0      0.0    0.0      ...        1.0       0.0     0.0  0.0  0.0   \n",
       "3     2.0      0.0    1.0      ...        0.0       1.0     0.0  0.0  0.0   \n",
       "\n",
       "   device  product  camera  price         Label  \n",
       "2     0.0      0.0     1.0    0.0       product  \n",
       "3     0.0      0.0     0.0    0.0  tech support  \n",
       "\n",
       "[2 rows x 26 columns]"
      ]
     },
     "execution_count": 9,
     "metadata": {},
     "output_type": "execute_result"
    }
   ],
   "source": [
    "info_score.iloc[2:4,]"
   ]
  },
  {
   "cell_type": "code",
   "execution_count": 49,
   "metadata": {
    "collapsed": true
   },
   "outputs": [
    {
     "name": "stderr",
     "output_type": "stream",
     "text": [
      "/Users/liuying/anaconda3/lib/python3.6/site-packages/ipykernel_launcher.py:1: SettingWithCopyWarning: \n",
      "A value is trying to be set on a copy of a slice from a DataFrame.\n",
      "Try using .loc[row_indexer,col_indexer] = value instead\n",
      "\n",
      "See the caveats in the documentation: http://pandas.pydata.org/pandas-docs/stable/indexing.html#indexing-view-versus-copy\n",
      "  \"\"\"Entry point for launching an IPython kernel.\n",
      "/Users/liuying/anaconda3/lib/python3.6/site-packages/pandas/core/indexing.py:517: SettingWithCopyWarning: \n",
      "A value is trying to be set on a copy of a slice from a DataFrame.\n",
      "Try using .loc[row_indexer,col_indexer] = value instead\n",
      "\n",
      "See the caveats in the documentation: http://pandas.pydata.org/pandas-docs/stable/indexing.html#indexing-view-versus-copy\n",
      "  self.obj[item] = s\n"
     ]
    }
   ],
   "source": [
    "score[['review_len','num_unique_words','num_exclamation','num_question','num_same_review']] = score[['review_len','num_unique_words',\n",
    "                                                                                                     'num_exclamation','num_question',\n",
    "                                                                                                     'num_same_review']].values.astype(float)\n",
    "\n",
    "\n",
    "\n"
   ]
  },
  {
   "cell_type": "code",
   "execution_count": null,
   "metadata": {
    "collapsed": true
   },
   "outputs": [],
   "source": []
  },
  {
   "cell_type": "code",
   "execution_count": 82,
   "metadata": {
    "collapsed": true
   },
   "outputs": [],
   "source": [
    "array = info_score[ 'review_len']"
   ]
  },
  {
   "cell_type": "code",
   "execution_count": 86,
   "metadata": {
    "collapsed": true
   },
   "outputs": [],
   "source": [
    "min_max_scaler = preprocessing.MinMaxScaler()\n",
    "scaled_array = min_max_scaler.fit_transform(array)"
   ]
  },
  {
   "cell_type": "code",
   "execution_count": 130,
   "metadata": {
    "collapsed": true
   },
   "outputs": [],
   "source": [
    "scaled = []\n",
    "for i in range(1,25):\n",
    "    array = info_score.iloc[:,i]\n",
    "    array = pd.DataFrame(array)\n",
    "    min_max_scaler = preprocessing.MinMaxScaler()\n",
    "    scaled_array = min_max_scaler.fit_transform(array)\n",
    "    scaled.append(scaled_array)"
   ]
  },
  {
   "cell_type": "code",
   "execution_count": 64,
   "metadata": {
    "collapsed": true
   },
   "outputs": [],
   "source": [
    "names = info_score.columns"
   ]
  },
  {
   "cell_type": "code",
   "execution_count": 95,
   "metadata": {},
   "outputs": [
    {
     "data": {
      "text/plain": [
       "4"
      ]
     },
     "execution_count": 95,
     "metadata": {},
     "output_type": "execute_result"
    }
   ],
   "source": [
    "score[['review_len','num_unique_words','num_exclamation',\n",
    "       'num_question','num_same_review']] = score[['review_len','num_unique_words',\n",
    "                                                   'num_exclamation','num_question',\n",
    "                                                   'num_same_review']].values.astype(float)"
   ]
  },
  {
   "cell_type": "code",
   "execution_count": 148,
   "metadata": {
    "collapsed": true
   },
   "outputs": [],
   "source": [
    "import numpy as np\n",
    "standard = pd.DataFrame(np.hstack(scaled),columns = names)"
   ]
  },
  {
   "cell_type": "code",
   "execution_count": 67,
   "metadata": {
    "collapsed": true
   },
   "outputs": [],
   "source": [
    "names = names[1:25]"
   ]
  },
  {
   "cell_type": "code",
   "execution_count": 68,
   "metadata": {},
   "outputs": [
    {
     "data": {
      "text/plain": [
       "Index(['review_len', 'num_unique_words', 'num_exclamation', 'num_question',\n",
       "       'num_same_review', 'word', 'router', 'support', 'modem', 'wifi',\n",
       "       'connect', 'get', 'phone', 'netgear', 'use', 'need', 'internet',\n",
       "       'return', 'buy', 'one', 'device', 'product', 'camera', 'price'],\n",
       "      dtype='object')"
      ]
     },
     "execution_count": 68,
     "metadata": {},
     "output_type": "execute_result"
    }
   ],
   "source": [
    "names"
   ]
  },
  {
   "cell_type": "code",
   "execution_count": 84,
   "metadata": {
    "collapsed": true
   },
   "outputs": [],
   "source": [
    "array = pd.DataFrame(array)"
   ]
  },
  {
   "cell_type": "code",
   "execution_count": 87,
   "metadata": {},
   "outputs": [
    {
     "data": {
      "text/plain": [
       "array([[ 0.07608963],\n",
       "       [ 0.07608963],\n",
       "       [ 0.09849791],\n",
       "       ..., \n",
       "       [ 0.39374538],\n",
       "       [ 0.39374538],\n",
       "       [ 0.02560946]])"
      ]
     },
     "execution_count": 87,
     "metadata": {},
     "output_type": "execute_result"
    }
   ],
   "source": [
    "scaled_array"
   ]
  },
  {
   "cell_type": "code",
   "execution_count": 156,
   "metadata": {},
   "outputs": [
    {
     "data": {
      "text/html": [
       "<div>\n",
       "<style>\n",
       "    .dataframe thead tr:only-child th {\n",
       "        text-align: right;\n",
       "    }\n",
       "\n",
       "    .dataframe thead th {\n",
       "        text-align: left;\n",
       "    }\n",
       "\n",
       "    .dataframe tbody tr th {\n",
       "        vertical-align: top;\n",
       "    }\n",
       "</style>\n",
       "<table border=\"1\" class=\"dataframe\">\n",
       "  <thead>\n",
       "    <tr style=\"text-align: right;\">\n",
       "      <th></th>\n",
       "      <th>Review</th>\n",
       "      <th>review_len</th>\n",
       "      <th>num_unique_words</th>\n",
       "      <th>num_exclamation</th>\n",
       "      <th>num_question</th>\n",
       "      <th>num_same_review</th>\n",
       "      <th>word</th>\n",
       "      <th>router</th>\n",
       "      <th>support</th>\n",
       "      <th>modem</th>\n",
       "      <th>...</th>\n",
       "      <th>need</th>\n",
       "      <th>internet</th>\n",
       "      <th>return</th>\n",
       "      <th>buy</th>\n",
       "      <th>one</th>\n",
       "      <th>device</th>\n",
       "      <th>product</th>\n",
       "      <th>camera</th>\n",
       "      <th>price</th>\n",
       "      <th>Label</th>\n",
       "    </tr>\n",
       "  </thead>\n",
       "  <tbody>\n",
       "    <tr>\n",
       "      <th>0</th>\n",
       "      <td>This router has been terrible. When it does wo...</td>\n",
       "      <td>311.0</td>\n",
       "      <td>43.0</td>\n",
       "      <td>0.0</td>\n",
       "      <td>0.0</td>\n",
       "      <td>2.0</td>\n",
       "      <td>0.0</td>\n",
       "      <td>1.0</td>\n",
       "      <td>0.0</td>\n",
       "      <td>0.0</td>\n",
       "      <td>...</td>\n",
       "      <td>0.0</td>\n",
       "      <td>0.0</td>\n",
       "      <td>0.0</td>\n",
       "      <td>0.0</td>\n",
       "      <td>0.0</td>\n",
       "      <td>0.0</td>\n",
       "      <td>0.0</td>\n",
       "      <td>0.0</td>\n",
       "      <td>0.0</td>\n",
       "      <td>product</td>\n",
       "    </tr>\n",
       "    <tr>\n",
       "      <th>1</th>\n",
       "      <td>This router has been terrible. When it does wo...</td>\n",
       "      <td>311.0</td>\n",
       "      <td>43.0</td>\n",
       "      <td>0.0</td>\n",
       "      <td>0.0</td>\n",
       "      <td>2.0</td>\n",
       "      <td>0.0</td>\n",
       "      <td>1.0</td>\n",
       "      <td>0.0</td>\n",
       "      <td>0.0</td>\n",
       "      <td>...</td>\n",
       "      <td>0.0</td>\n",
       "      <td>1.0</td>\n",
       "      <td>0.0</td>\n",
       "      <td>0.0</td>\n",
       "      <td>0.0</td>\n",
       "      <td>0.0</td>\n",
       "      <td>0.0</td>\n",
       "      <td>0.0</td>\n",
       "      <td>0.0</td>\n",
       "      <td>product</td>\n",
       "    </tr>\n",
       "    <tr>\n",
       "      <th>2</th>\n",
       "      <td>Less than two years in and it`s a paperweight....</td>\n",
       "      <td>402.0</td>\n",
       "      <td>54.0</td>\n",
       "      <td>0.0</td>\n",
       "      <td>0.0</td>\n",
       "      <td>1.0</td>\n",
       "      <td>0.0</td>\n",
       "      <td>0.0</td>\n",
       "      <td>0.0</td>\n",
       "      <td>0.0</td>\n",
       "      <td>...</td>\n",
       "      <td>1.0</td>\n",
       "      <td>0.0</td>\n",
       "      <td>0.0</td>\n",
       "      <td>0.0</td>\n",
       "      <td>0.0</td>\n",
       "      <td>0.0</td>\n",
       "      <td>0.0</td>\n",
       "      <td>1.0</td>\n",
       "      <td>0.0</td>\n",
       "      <td>product</td>\n",
       "    </tr>\n",
       "    <tr>\n",
       "      <th>3</th>\n",
       "      <td>Does it do a good job boosting signal outside?...</td>\n",
       "      <td>150.0</td>\n",
       "      <td>29.0</td>\n",
       "      <td>0.0</td>\n",
       "      <td>1.0</td>\n",
       "      <td>2.0</td>\n",
       "      <td>0.0</td>\n",
       "      <td>2.0</td>\n",
       "      <td>0.0</td>\n",
       "      <td>1.0</td>\n",
       "      <td>...</td>\n",
       "      <td>0.0</td>\n",
       "      <td>1.0</td>\n",
       "      <td>0.0</td>\n",
       "      <td>0.0</td>\n",
       "      <td>0.0</td>\n",
       "      <td>0.0</td>\n",
       "      <td>0.0</td>\n",
       "      <td>0.0</td>\n",
       "      <td>0.0</td>\n",
       "      <td>tech support</td>\n",
       "    </tr>\n",
       "    <tr>\n",
       "      <th>4</th>\n",
       "      <td>Does it do a good job boosting signal outside?...</td>\n",
       "      <td>150.0</td>\n",
       "      <td>29.0</td>\n",
       "      <td>0.0</td>\n",
       "      <td>1.0</td>\n",
       "      <td>2.0</td>\n",
       "      <td>0.0</td>\n",
       "      <td>0.0</td>\n",
       "      <td>0.0</td>\n",
       "      <td>0.0</td>\n",
       "      <td>...</td>\n",
       "      <td>0.0</td>\n",
       "      <td>0.0</td>\n",
       "      <td>0.0</td>\n",
       "      <td>0.0</td>\n",
       "      <td>0.0</td>\n",
       "      <td>0.0</td>\n",
       "      <td>0.0</td>\n",
       "      <td>1.0</td>\n",
       "      <td>0.0</td>\n",
       "      <td>product</td>\n",
       "    </tr>\n",
       "  </tbody>\n",
       "</table>\n",
       "<p>5 rows × 26 columns</p>\n",
       "</div>"
      ],
      "text/plain": [
       "                                              Review  review_len  \\\n",
       "0  This router has been terrible. When it does wo...       311.0   \n",
       "1  This router has been terrible. When it does wo...       311.0   \n",
       "2  Less than two years in and it`s a paperweight....       402.0   \n",
       "3  Does it do a good job boosting signal outside?...       150.0   \n",
       "4  Does it do a good job boosting signal outside?...       150.0   \n",
       "\n",
       "   num_unique_words  num_exclamation  num_question  num_same_review  word  \\\n",
       "0              43.0              0.0           0.0              2.0   0.0   \n",
       "1              43.0              0.0           0.0              2.0   0.0   \n",
       "2              54.0              0.0           0.0              1.0   0.0   \n",
       "3              29.0              0.0           1.0              2.0   0.0   \n",
       "4              29.0              0.0           1.0              2.0   0.0   \n",
       "\n",
       "   router  support  modem      ...       need  internet  return  buy  one  \\\n",
       "0     1.0      0.0    0.0      ...        0.0       0.0     0.0  0.0  0.0   \n",
       "1     1.0      0.0    0.0      ...        0.0       1.0     0.0  0.0  0.0   \n",
       "2     0.0      0.0    0.0      ...        1.0       0.0     0.0  0.0  0.0   \n",
       "3     2.0      0.0    1.0      ...        0.0       1.0     0.0  0.0  0.0   \n",
       "4     0.0      0.0    0.0      ...        0.0       0.0     0.0  0.0  0.0   \n",
       "\n",
       "   device  product  camera  price         Label  \n",
       "0     0.0      0.0     0.0    0.0       product  \n",
       "1     0.0      0.0     0.0    0.0       product  \n",
       "2     0.0      0.0     1.0    0.0       product  \n",
       "3     0.0      0.0     0.0    0.0  tech support  \n",
       "4     0.0      0.0     1.0    0.0       product  \n",
       "\n",
       "[5 rows x 26 columns]"
      ]
     },
     "execution_count": 156,
     "metadata": {},
     "output_type": "execute_result"
    }
   ],
   "source": [
    "info_score.head()"
   ]
  },
  {
   "cell_type": "code",
   "execution_count": 157,
   "metadata": {
    "collapsed": true
   },
   "outputs": [],
   "source": [
    "total = pd.DataFrame(standard.sum(axis = 1))"
   ]
  },
  {
   "cell_type": "code",
   "execution_count": 158,
   "metadata": {
    "collapsed": true
   },
   "outputs": [],
   "source": [
    "review = info_score[['Review','Label']]"
   ]
  },
  {
   "cell_type": "code",
   "execution_count": 159,
   "metadata": {
    "collapsed": true
   },
   "outputs": [],
   "source": [
    "final = pd.concat([total,review],axis = 1)"
   ]
  },
  {
   "cell_type": "code",
   "execution_count": 161,
   "metadata": {
    "collapsed": true
   },
   "outputs": [],
   "source": [
    "final.to_csv('review_score.csv')"
   ]
  },
  {
   "cell_type": "code",
   "execution_count": null,
   "metadata": {
    "collapsed": true
   },
   "outputs": [],
   "source": []
  },
  {
   "cell_type": "code",
   "execution_count": null,
   "metadata": {
    "collapsed": true
   },
   "outputs": [],
   "source": []
  }
 ],
 "metadata": {
  "kernelspec": {
   "display_name": "Python 3",
   "language": "python",
   "name": "python3"
  },
  "language_info": {
   "codemirror_mode": {
    "name": "ipython",
    "version": 3
   },
   "file_extension": ".py",
   "mimetype": "text/x-python",
   "name": "python",
   "nbconvert_exporter": "python",
   "pygments_lexer": "ipython3",
   "version": "3.6.3"
  }
 },
 "nbformat": 4,
 "nbformat_minor": 2
}
